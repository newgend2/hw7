{
 "cells": [
  {
   "cell_type": "code",
   "execution_count": 1,
   "metadata": {
    "deletable": false,
    "editable": false
   },
   "outputs": [],
   "source": [
    "# Initialize Otter\n",
    "import otter\n",
    "grader = otter.Notebook(\"hw07.ipynb\")"
   ]
  },
  {
   "cell_type": "markdown",
   "metadata": {},
   "source": [
    "## Homework 7: Random processes & linear models\n",
    "# 52 pts, Due Friday Feb 25 at 11:59pm "
   ]
  },
  {
   "cell_type": "markdown",
   "metadata": {},
   "source": [
    "# **Helpful Resources:**# \n",
    "\n",
    "- [Getting help on a Jupyter Notebook](https://problemsolvingwithpython.com/02-Jupyter-Notebooks/02.07-Getting-Help-in-a-Jupyter-Notebook/)\n",
    "\n",
    "- [Python Examples](https://nbviewer.jupyter.org/urls/bitbucket.org/hrojas/learn-pandas/raw/master/lessons/Python_101.ipynb): A reference for distinct Python commands (worth returning to throughout this course)\n",
    "\n",
    "- [Inferential Thinking: Chapter 15, Prediction](https://inferentialthinking.com/chapters/15/Prediction.html)\n"
   ]
  },
  {
   "cell_type": "code",
   "execution_count": 2,
   "metadata": {},
   "outputs": [],
   "source": [
    "import pandas as pd\n",
    "import matplotlib.pyplot as plt\n",
    "import matplotlib\n",
    "import numpy as np\n",
    "import autograder_tools as at\n",
    "%matplotlib inline"
   ]
  },
  {
   "cell_type": "markdown",
   "metadata": {},
   "source": [
    "## Point Breakdown\n",
    "\n",
    "| **Question #** | **Points**  |\n",
    "| -------------- | :---------: |\n",
    "| Question 0     | 4           |\n",
    "| Question 1     | 35          |\n",
    "| Question 2     | 43          |"
   ]
  },
  {
   "cell_type": "markdown",
   "metadata": {},
   "source": [
    "## Question 0: Connecting with another student. (4 pts)\n",
    "\n",
    "Chat with any other student about the assignment. Ask or try to answer any homework questions you each have. \n",
    "\n",
    "If you communicated with a homework partner(s) about the assignment, please write their names in Markdown Cell for credit below."
   ]
  },
  {
   "cell_type": "markdown",
   "metadata": {},
   "source": [
    "Logan Rower"
   ]
  },
  {
   "cell_type": "markdown",
   "metadata": {},
   "source": [
    "<!-- END QUESTION -->\n",
    "\n",
    "## Question 1: Estimating length changes in a northern pike population. (35 pts)\n",
    "In 1989, the Minnesota Department of Natural Resourcers instituted a *slot limit* of 22-30 inches for fish in [Medicine Lake](https://en.wikipedia.org/wiki/Medicine_Lake_(Minnesota)), an ~ 460-acre lake in Beltrami County, MN. This means that all fish caught within this size interval had to be released. Using limited random samples from before and after the limit was imposed, try to estimate the effect of the slot limit on fish lengths. To do this, use `Pikedata.csv`, which contains length data from 73 fish caught in net collection traps in 1988 and 81 fish collected in 1993. From these limited samples, the bootstrap technique provides a means to estimate the expected distribution of mean length differences that would be obtained with wider sampling. \n"
   ]
  },
  {
   "cell_type": "markdown",
   "metadata": {},
   "source": [
    "### Question 1a (13 pts):\n",
    "Make two histograms on the same subplot showing distribution of 1988 and 1993 lengths. Make the 1988 data a normal histogram and 1993 data with `histtype='step'`. Plot means of each distribution as downward facing triangles."
   ]
  },
  {
   "cell_type": "markdown",
   "metadata": {},
   "source": [
    "### Answer 1a"
   ]
  },
  {
   "cell_type": "code",
   "execution_count": 15,
   "metadata": {
    "tags": []
   },
   "outputs": [
    {
     "data": {
      "text/plain": [
       "Text(0, 0.5, 'counts')"
      ]
     },
     "execution_count": 15,
     "metadata": {},
     "output_type": "execute_result"
    },
    {
     "data": {
      "image/png": "[encoded data removed]",
      "text/plain": [
       "<Figure size 432x288 with 1 Axes>"
      ]
     },
     "metadata": {
      "needs_background": "light"
     },
     "output_type": "display_data"
    }
   ],
   "source": [
    "# Read in Pike Data dataframe...\n",
    "df_pike = pd.read_csv('Pikedata.csv')\n",
    "# Divide the dataframe into 1988-only and 1993-only data\n",
    "length_88 = df_pike.loc[df_pike['year'] == 1988, 'length.inches']\n",
    "length_93 = df_pike.loc[df_pike['year'] == 1993, 'length.inches']\n",
    "\n",
    "\n",
    "# Setting up the axes for this problem...\n",
    "fig=plt.figure()\n",
    "ax1a=fig.add_subplot(111)\n",
    "\n",
    "# Create your histograms here; 88 should be normal, but 93 should be 'step'\n",
    "# Density should be false in this problem\n",
    "# STARTER CODE (for autograding)\n",
    "cts_88, bins_88, patches_88 = ax1a.hist(length_88, label='1988')\n",
    "cts_93, bins_93, patches_93 = ax1a.hist(length_93, histtype='step', label='1993')\n",
    "\n",
    "ax1a.set_title('histograms of length of caught fish for 2 different years')\n",
    "ax1a.legend()\n",
    "ax1a.set_xlabel('length of fish (inches)')\n",
    "ax1a.set_ylabel('counts')\n",
    "\n",
    "\n",
    "\n",
    "\n",
    "\n"
   ]
  },
  {
   "cell_type": "code",
   "execution_count": 16,
   "metadata": {
    "deletable": false,
    "editable": false
   },
   "outputs": [
    {
     "data": {
      "text/html": [
       "<p><strong><pre style='display: inline;'>q1a</pre></strong> passed!</p>"
      ],
      "text/plain": [
       "q1a results: All test cases passed!"
      ]
     },
     "execution_count": 16,
     "metadata": {},
     "output_type": "execute_result"
    }
   ],
   "source": [
    "grader.check(\"q1a\")"
   ]
  },
  {
   "cell_type": "markdown",
   "metadata": {},
   "source": [
    "### Question 1b (3 pts):\n",
    "Assign the observed difference in mean lengths between 1988 and 1993 to `observed_mean_difference`"
   ]
  },
  {
   "cell_type": "markdown",
   "metadata": {},
   "source": [
    "### Answer 1b:"
   ]
  },
  {
   "cell_type": "code",
   "execution_count": 20,
   "metadata": {
    "tags": []
   },
   "outputs": [
    {
     "name": "stdout",
     "output_type": "stream",
     "text": [
      "2.8977574835109046\n"
     ]
    }
   ],
   "source": [
    "observed_mean_difference= np.mean(length_93) - np.mean(length_88)\n",
    "print(observed_mean_difference)"
   ]
  },
  {
   "cell_type": "code",
   "execution_count": 21,
   "metadata": {
    "deletable": false,
    "editable": false
   },
   "outputs": [
    {
     "data": {
      "text/html": [
       "<p><strong><pre style='display: inline;'>q1b</pre></strong> passed!</p>"
      ],
      "text/plain": [
       "q1b results: All test cases passed!"
      ]
     },
     "execution_count": 21,
     "metadata": {},
     "output_type": "execute_result"
    }
   ],
   "source": [
    "grader.check(\"q1b\")"
   ]
  },
  {
   "cell_type": "markdown",
   "metadata": {},
   "source": [
    "### Question 1c (6 pts):\n",
    "Use a permutation test, with 1000 permutations, to calculate the distribution of mean differences expected under the null hypothesis that there was no difference between 1988 and 1993 fish lengths. Plot this null distribution as a histogram. "
   ]
  },
  {
   "cell_type": "markdown",
   "metadata": {},
   "source": [
    "### Answer 1c:"
   ]
  },
  {
   "cell_type": "code",
   "execution_count": 22,
   "metadata": {
    "tags": []
   },
   "outputs": [],
   "source": [
    "\n",
    "num_permutations= 1000\n",
    "\n",
    "mean_diff_array = np.empty(num_permutations)\n",
    "for z in range(num_permutations):\n",
    "    permuted_data = np.random.permutation(np.concatenate([length_93, length_88]))\n",
    "    permuted_93 = permuted_data[0:len(length_93)]\n",
    "    permuted_88 = permuted_data[len(length_93):]\n",
    "    mean_diff = np.mean(permuted_93) - np.mean(permuted_88)\n",
    "    mean_diff_array[z] = mean_diff\n",
    "    "
   ]
  },
  {
   "cell_type": "code",
   "execution_count": 24,
   "metadata": {
    "tags": []
   },
   "outputs": [
    {
     "data": {
      "text/plain": [
       "<matplotlib.legend.Legend at 0x7f3e18e63410>"
      ]
     },
     "execution_count": 24,
     "metadata": {},
     "output_type": "execute_result"
    },
    {
     "data": {
      "image/png": "[encoded data removed]",
      "text/plain": [
       "<Figure size 432x288 with 1 Axes>"
      ]
     },
     "metadata": {
      "needs_background": "light"
     },
     "output_type": "display_data"
    }
   ],
   "source": [
    "# Creating the axes for this problem...\n",
    "fig=plt.figure()\n",
    "ax1c=fig.add_subplot(111)\n",
    "\n",
    "# Create your histogram (no density)\n",
    "# Starter code\n",
    "cts_diff, bins_diff, patches_diff = ax1c.hist(mean_diff_array, label='mean diff between lengths in 1993 and 1988')\n",
    "\n",
    "...\n",
    "\n",
    "...\n",
    "\n",
    "# Finish the graph...\n",
    "ax1c.set_xlabel('null distribution of mean length differences')\n",
    "ax1c.set_ylabel('counts')\n",
    "ax1c.legend()"
   ]
  },
  {
   "cell_type": "code",
   "execution_count": 25,
   "metadata": {
    "deletable": false,
    "editable": false
   },
   "outputs": [
    {
     "data": {
      "text/html": [
       "<p><strong><pre style='display: inline;'>q1c</pre></strong> passed!</p>"
      ],
      "text/plain": [
       "q1c results: All test cases passed!"
      ]
     },
     "execution_count": 25,
     "metadata": {},
     "output_type": "execute_result"
    }
   ],
   "source": [
    "grader.check(\"q1c\")"
   ]
  },
  {
   "cell_type": "markdown",
   "metadata": {},
   "source": [
    "### Question 1d (3 pts): \n",
    "For what proportion of this null distribution is the mean length difference greater than observed?"
   ]
  },
  {
   "cell_type": "markdown",
   "metadata": {},
   "source": [
    "### Answer 1d"
   ]
  },
  {
   "cell_type": "code",
   "execution_count": 26,
   "metadata": {
    "tags": []
   },
   "outputs": [
    {
     "name": "stdout",
     "output_type": "stream",
     "text": [
      "0\n"
     ]
    }
   ],
   "source": [
    "proportion_exceeding_observed= len(mean_diff_array[mean_diff_array > observed_mean_difference])\n",
    "print(proportion_exceeding_observed)"
   ]
  },
  {
   "cell_type": "code",
   "execution_count": 27,
   "metadata": {
    "deletable": false,
    "editable": false
   },
   "outputs": [
    {
     "data": {
      "text/html": [
       "<p><strong><pre style='display: inline;'>q1d</pre></strong> passed!</p>"
      ],
      "text/plain": [
       "q1d results: All test cases passed!"
      ]
     },
     "execution_count": 27,
     "metadata": {},
     "output_type": "execute_result"
    }
   ],
   "source": [
    "grader.check(\"q1d\")"
   ]
  },
  {
   "cell_type": "markdown",
   "metadata": {},
   "source": [
    "### Question 1e (7 pts):\n",
    "Use 1,000 random samples with replacement of the observed data to calculate the distribution of mean length differences expected with wider sampling of the population. Plot this distribution as a histogram.  Calculate the 95% confidence interval and plot this as a horizontal line. Save the lower and higher bounds of confidence interval to variable s`lower_bound` and `higher_bound`."
   ]
  },
  {
   "cell_type": "markdown",
   "metadata": {},
   "source": [
    "### Answer 1e"
   ]
  },
  {
   "cell_type": "code",
   "execution_count": null,
   "metadata": {
    "tags": []
   },
   "outputs": [],
   "source": [
    "\n",
    "\n",
    "...\n",
    "    \n",
    "    \n",
    "    \n",
    "\n",
    "# Create axes for this plot\n",
    "fig=plt.figure()\n",
    "ax1e=fig.add_subplot(111)\n",
    "\n",
    "# Create a histogram of the bootstrap array\n",
    "\"\"\" Starter code\n",
    "cts_boot, bins_boot, patches_boot = ax1e.hist(...)\n",
    "\"\"\"\n",
    "...\n",
    "\n",
    "conf_interval= ...\n",
    "\n",
    "...\n",
    "\n",
    "# Finish the plot...\n",
    "...\n",
    "\n",
    "# Set higher and lower bound variables\n",
    "lower_bound= ...\n",
    "higher_bound= ..."
   ]
  },
  {
   "cell_type": "code",
   "execution_count": null,
   "metadata": {
    "deletable": false,
    "editable": false
   },
   "outputs": [],
   "source": [
    "grader.check(\"q1e\")"
   ]
  },
  {
   "cell_type": "markdown",
   "metadata": {},
   "source": [
    "### Question 1f (3 pts):\n",
    "Did the slot limit cause a significant change in fish length? Provide a *short* answer, with reference to your tests above."
   ]
  },
  {
   "cell_type": "markdown",
   "metadata": {},
   "source": [
    "### Answer 1f"
   ]
  },
  {
   "cell_type": "markdown",
   "metadata": {},
   "source": [
    "_Type your answer here, replacing this text._"
   ]
  },
  {
   "cell_type": "markdown",
   "metadata": {},
   "source": [
    "<!-- END QUESTION -->\n",
    "\n",
    "## Question 2: Old Faithful Redux (43 pts)\n",
    "The [Pearson correlation coefficient](https://en.wikipedia.org/wiki/Pearson_correlation_coefficient) is defined as the covariance of two variables divided by their standard deviation. The possible values of the correlation coefficient vary between -1 (absolute negative correlation) and 1 (absolute positive correlation).\n",
    "In class, we learned that when paired data are converted to standard units (with mean subtracted and normalized by standard deviation), the correlation coefficient -- often abbreviated as **r** -- is the slope of the best fit line and is calculated as the mean of the point-by-point product of the data.\n",
    "\n",
    "The slope in original units of the data is:<br>\n",
    "**Slope = r  * (sd(y)/sd(x))**\n",
    "\n",
    "\n",
    "\n",
    "We previously examined observations of the Old Faithful geyser, recording a series of paired eruption durations and waiting times until the next eruption. Here, we re-examine this data set to infer general properties of the geyser from the limited sample. <br>\n",
    "Load in the data from `old_faithful.csv` and remake the scatter plot from HW 2, Question 1g. These data are suggestive of a linear association between eruption duration and waiting time.  "
   ]
  },
  {
   "cell_type": "markdown",
   "metadata": {},
   "source": [
    "### Question 2a (4 pts):\n",
    "\n",
    "Make a scatter plot of the Old Faithful data with eruptions on the horizontal axis and waiting on the vertical axis."
   ]
  },
  {
   "cell_type": "markdown",
   "metadata": {},
   "source": [
    "### Answer 2a"
   ]
  },
  {
   "cell_type": "code",
   "execution_count": null,
   "metadata": {
    "tags": []
   },
   "outputs": [],
   "source": [
    "\n",
    "fig=plt.figure()\n",
    "ax2a=fig.add_subplot(111)\n",
    "\n",
    "\n",
    "...\n"
   ]
  },
  {
   "cell_type": "code",
   "execution_count": null,
   "metadata": {
    "deletable": false,
    "editable": false
   },
   "outputs": [],
   "source": [
    "grader.check(\"q2a\")"
   ]
  },
  {
   "cell_type": "markdown",
   "metadata": {},
   "source": [
    "### Question 2b (3 pts): \n",
    "Use the numpy `corr_coef` method to calculate the Pearson correlation coeffient and assign it to the variable `correlation`. *A reminder*: index one value of the 2x2 array returned by the `corr_coef` method."
   ]
  },
  {
   "cell_type": "markdown",
   "metadata": {},
   "source": [
    "### Answer 2b:"
   ]
  },
  {
   "cell_type": "code",
   "execution_count": null,
   "metadata": {
    "tags": []
   },
   "outputs": [],
   "source": [
    "correlation= ..."
   ]
  },
  {
   "cell_type": "code",
   "execution_count": null,
   "metadata": {
    "deletable": false,
    "editable": false
   },
   "outputs": [],
   "source": [
    "grader.check(\"q2b\")"
   ]
  },
  {
   "cell_type": "markdown",
   "metadata": {},
   "source": [
    "### Question 2c (6 pts): \n",
    "Remake the scatter plot from above, adding a linear model of the data constructed from the correlation coefficient. Assign the slope of the fit line to the variable `slope` and y-intercept to variable `intercept`."
   ]
  },
  {
   "cell_type": "markdown",
   "metadata": {},
   "source": [
    "### Answer 2c"
   ]
  },
  {
   "cell_type": "markdown",
   "metadata": {},
   "source": [
    "_Type your answer here, replacing this text._"
   ]
  },
  {
   "cell_type": "code",
   "execution_count": null,
   "metadata": {
    "tags": []
   },
   "outputs": [],
   "source": [
    "# Creating axes for this problem...\n",
    "fig=plt.figure()\n",
    "ax2c=fig.add_subplot(111)\n",
    "\n",
    "\n",
    "slope= ...\n",
    "intercept= ...\n",
    "\n",
    "old_faithful_scatter = ...\n",
    "#Added this line - expecting variable xvls created with linspace\n",
    "xvls=np.linspace(1,6,20)\n",
    "# Plot the x values and the y values.\n",
    "\n",
    "\n",
    "...\n",
    "\n",
    "..."
   ]
  },
  {
   "cell_type": "code",
   "execution_count": null,
   "metadata": {
    "deletable": false,
    "editable": false
   },
   "outputs": [],
   "source": [
    "grader.check(\"q2c\")"
   ]
  },
  {
   "cell_type": "markdown",
   "metadata": {},
   "source": [
    "### Question 2ca: \n",
    "Based on this linear model, what would you predict the waiting time to be after an eruption of one minute?  After an eruption of 6 minutes?\n",
    "Save your answers to `waiting_time_after_one_min_eruption`, `waiting_time_after_six_min_eruption`"
   ]
  },
  {
   "cell_type": "markdown",
   "metadata": {},
   "source": [
    "### Answer 2ca:"
   ]
  },
  {
   "cell_type": "code",
   "execution_count": null,
   "metadata": {
    "tags": []
   },
   "outputs": [],
   "source": [
    "waiting_time_after_one_min_eruption= ...\n",
    "waiting_time_after_six_min_eruption= ...\n",
    "print(waiting_time_after_one_min_eruption)\n",
    "print(waiting_time_after_six_min_eruption)"
   ]
  },
  {
   "cell_type": "code",
   "execution_count": null,
   "metadata": {
    "deletable": false,
    "editable": false
   },
   "outputs": [],
   "source": [
    "grader.check(\"q2ca\")"
   ]
  },
  {
   "cell_type": "markdown",
   "metadata": {},
   "source": [
    "### Question 2d (9 pts):\n",
    "\n",
    "How does this observed value of the correlation coefficient compare to the distributon of correlation coefficients expected by chance? Address this question by randomly shuffling the observed pairings 1,000 times. Make a histogram of  the distribution of correlation coefficients obtained via shuffling, and plot the observed correlation coefficient as a downward facing triangle."
   ]
  },
  {
   "cell_type": "markdown",
   "metadata": {},
   "source": [
    "### Answer 2d"
   ]
  },
  {
   "cell_type": "code",
   "execution_count": null,
   "metadata": {
    "tags": []
   },
   "outputs": [],
   "source": [
    "\n",
    "\n",
    "...\n",
    "    \n",
    "# Creating the axes for this problem\n",
    "fig=plt.figure()\n",
    "ax2d=fig.add_subplot(111)\n",
    "\n",
    "# coeff_hist=ax2d.hist(...)\n",
    "coeff_hist = ...\n",
    "\n",
    "...\n",
    "\n",
    "# Finish the graph\n",
    "..."
   ]
  },
  {
   "cell_type": "code",
   "execution_count": null,
   "metadata": {
    "deletable": false,
    "editable": false
   },
   "outputs": [],
   "source": [
    "grader.check(\"q2d\")"
   ]
  },
  {
   "cell_type": "markdown",
   "metadata": {},
   "source": [
    "### Question 2e (10 pts):\n",
    "An alternative method of evaluating the significance of a correlation coefficient is to create a 95% confidence interval. To do this, bootstrap the observed data *preserving the original pairings* and repeatedly resample the observed data with replacement. Using 1,000 bootstraps, determine the 95% confidence interval for the correlation coefficient. Plot the distribution of expected correlation coefficients as a histogram and the 95% confidence interval as a horizontal line."
   ]
  },
  {
   "cell_type": "markdown",
   "metadata": {},
   "source": [
    "### Answer 2e"
   ]
  },
  {
   "cell_type": "code",
   "execution_count": null,
   "metadata": {
    "tags": []
   },
   "outputs": [],
   "source": [
    "\n",
    "\n",
    "    \n",
    "    \n",
    "# Setting up axes for this question...\n",
    "fig=plt.figure()\n",
    "ax2e=fig.add_subplot(111)\n",
    "\n",
    "# boot_hist=ax2e.hist(...)\n",
    "\n",
    "conf_interval= ...\n",
    "\n",
    "\n",
    "# Finish the graph\n",
    "..."
   ]
  },
  {
   "cell_type": "code",
   "execution_count": null,
   "metadata": {
    "deletable": false,
    "editable": false
   },
   "outputs": [],
   "source": [
    "grader.check(\"q2e\")"
   ]
  },
  {
   "cell_type": "markdown",
   "metadata": {},
   "source": [
    "### Question 2f (11 pts):\n",
    "The bootstrap can be used to estimate the underlying expected distribution of any statistical parameter. Use a bootstrap approach (1,000 samples) to estimate the proportion of eruptions lasting longer than 3 minutes.  Create an array called `proportion_percentiles` with the 1st, 50th, and 99th percentile proportions."
   ]
  },
  {
   "cell_type": "markdown",
   "metadata": {},
   "source": [
    "### Answer 2f"
   ]
  },
  {
   "cell_type": "code",
   "execution_count": null,
   "metadata": {
    "tags": []
   },
   "outputs": [],
   "source": [
    "\n",
    "\n",
    "    \n",
    "    \n",
    "    \n",
    "# Creating the axes for this problem\n",
    "fig=plt.figure()\n",
    "ax2f=fig.add_subplot(111)\n",
    "\n",
    "# minutes_hist=ax2f.hist(...)\n",
    "minutes_hist = ...\n",
    "\n",
    "\n",
    "\n",
    "...\n",
    "s\n",
    "# Finish the graph...\n",
    "..."
   ]
  },
  {
   "cell_type": "code",
   "execution_count": null,
   "metadata": {
    "deletable": false,
    "editable": false
   },
   "outputs": [],
   "source": [
    "grader.check(\"q2f\")"
   ]
  },
  {
   "cell_type": "markdown",
   "metadata": {
    "deletable": false,
    "editable": false
   },
   "source": [
    "---\n",
    "\n",
    "To double-check your work, the cell below will rerun all of the autograder tests."
   ]
  },
  {
   "cell_type": "code",
   "execution_count": null,
   "metadata": {
    "deletable": false,
    "editable": false
   },
   "outputs": [],
   "source": [
    "grader.check_all()"
   ]
  },
  {
   "cell_type": "markdown",
   "metadata": {
    "deletable": false,
    "editable": false
   },
   "source": [
    "## Submission\n",
    "\n",
    "Make sure you have run all cells in your notebook in order before running the cell below, so that all images/graphs appear in the output. The cell below will generate a zip file for you to submit. **Please save before exporting!**"
   ]
  },
  {
   "cell_type": "code",
   "execution_count": null,
   "metadata": {
    "deletable": false,
    "editable": false
   },
   "outputs": [],
   "source": [
    "# Save your notebook first, then run this cell to export your submission.\n",
    "grader.export()"
   ]
  },
  {
   "cell_type": "markdown",
   "metadata": {},
   "source": [
    " "
   ]
  }
 ],
 "metadata": {
  "kernelspec": {
   "display_name": "Python 3 (ipykernel)",
   "language": "python",
   "name": "python3"
  },
  "language_info": {
   "codemirror_mode": {
    "name": "ipython",
    "version": 3
   },
   "file_extension": ".py",
   "mimetype": "text/x-python",
   "name": "python",
   "nbconvert_exporter": "python",
   "pygments_lexer": "ipython3",
   "version": "3.7.12"
  },
  "otter": {
   "tests": {
    "q1a": {
     "name": "q1a",
     "points": 13,
     "suites": [
      {
       "cases": [
        {
         "code": ">>> assert np.allclose(at.sum_stats(cts_88), (0.0, 1.25, 3.5, 11.75, 22.0, 7.3, 7.62))\n",
         "hidden": false,
         "locked": false,
         "points": 3
        },
        {
         "code": ">>> assert np.allclose(at.sum_stats(cts_93), (1.0, 3.25, 5.5, 10.0, 23.0, 8.1, 6.96))\n",
         "hidden": false,
         "locked": false,
         "points": 3
        },
        {
         "code": ">>> assert type(patches_93[0]) == matplotlib.patches.Polygon\n",
         "hidden": false,
         "locked": false,
         "points": 2
        },
        {
         "code": ">>> assert at.check_legend(ax1a, 4), at.check_legibility(ax1a)\n",
         "hidden": false,
         "locked": false,
         "points": 1
        }
       ],
       "scored": true,
       "setup": "",
       "teardown": "",
       "type": "doctest"
      }
     ]
    },
    "q1b": {
     "name": "q1b",
     "points": 3,
     "suites": [
      {
       "cases": [
        {
         "code": ">>> assert np.isclose(observed_mean_difference, 2.897757483510901)\n",
         "failure_message": "Do you have a positive difference? If so, are you calculating the right test statistic?",
         "hidden": false,
         "locked": false
        }
       ],
       "scored": true,
       "setup": "",
       "teardown": "",
       "type": "doctest"
      }
     ]
    },
    "q1c": {
     "name": "q1c",
     "points": 6,
     "suites": [
      {
       "cases": [
        {
         "code": ">>> answer = [4.19,  21.7775,  75.225, 169.83, 248.52, 100., 87.3499]\n>>> tol = [ 8.63973958, 20.25580334, 28.6546135 , 33.17152243, 64.1712272 , 0.        , 23.64678957]\n>>> assert np.allclose(at.sum_stats(cts_diff), answer, atol = tol)\n",
         "hidden": false,
         "locked": false,
         "points": 3
        },
        {
         "code": ">>> assert at.check_legibility(ax1c) and at.check_legend(ax1c, 2)\n",
         "hidden": false,
         "locked": false,
         "points": 1
        }
       ],
       "scored": true,
       "setup": "",
       "teardown": "",
       "type": "doctest"
      }
     ]
    },
    "q1d": {
     "name": "q1d",
     "points": 3,
     "suites": [
      {
       "cases": [
        {
         "code": ">>> assert proportion_exceeding_observed == 0.0\n",
         "hidden": false,
         "locked": false
        }
       ],
       "scored": true,
       "setup": "",
       "teardown": "",
       "type": "doctest"
      }
     ]
    },
    "q1e": {
     "name": "q1e",
     "points": 7,
     "suites": [
      {
       "cases": [
        {
         "code": ">>> answer = [  3.29  ,  18.5275,  71.115 , 172.715 , 257.75  , 100.    , 91.1313]\n>>> tol = [ 7.11569392, 20.6422823 , 29.87061223, 32.9433639 , 77.96465545, 0.        , 26.3086986 ]\n>>> assert np.allclose(at.sum_stats(cts_boot), answer, atol = tol)\n",
         "hidden": false,
         "locked": false,
         "points": 3
        },
        {
         "code": ">>> assert np.allclose(ax1e.lines[0].get_data()[0], [1.6906397886013877, 4.108665626585489], atol = [0.15677729760121617, 0.15312278446860328])\n",
         "hidden": false,
         "locked": false,
         "points": 3
        },
        {
         "code": ">>> assert at.check_legibility(ax1e) and at.check_legend(ax1e, 2)\n",
         "hidden": false,
         "locked": false,
         "points": 1
        }
       ],
       "scored": true,
       "setup": "",
       "teardown": "",
       "type": "doctest"
      }
     ]
    },
    "q2a": {
     "name": "q2a",
     "points": 4,
     "suites": [
      {
       "cases": [
        {
         "code": ">>> assert at.check_legibility(ax2a)\n",
         "hidden": false,
         "locked": false,
         "points": 4
        }
       ],
       "scored": true,
       "setup": "",
       "teardown": "",
       "type": "doctest"
      }
     ]
    },
    "q2b": {
     "name": "q2b",
     "points": 3,
     "suites": [
      {
       "cases": [
        {
         "code": ">>> assert np.isclose(correlation, 0.9008111683218126)\n",
         "hidden": false,
         "locked": false
        }
       ],
       "scored": true,
       "setup": "",
       "teardown": "",
       "type": "doctest"
      }
     ]
    },
    "q2c": {
     "name": "q2c",
     "points": 6,
     "suites": [
      {
       "cases": [
        {
         "code": ">>> assert np.isclose(slope, 10.72964139513352)\n",
         "hidden": false,
         "locked": false
        },
        {
         "code": ">>> assert np.isclose(intercept, 33.47439702275337)\n",
         "hidden": false,
         "locked": false
        },
        {
         "code": ">>> assert np.allclose(at.sum_stats(xvls), (1.0, 2.25, 3.5, 4.75, 6.0, 3.5, 1.52))\n",
         "hidden": false,
         "locked": false
        },
        {
         "code": ">>> assert np.allclose(at.sum_stats(ax2c.lines[0].get_data()[1]), (44.2, 57.62, 71.03, 84.44, 97.85, 71.03, 16.28))\n",
         "hidden": false,
         "locked": false
        },
        {
         "code": ">>> assert at.check_legibility(ax2c) and at.check_legend(ax2c, 2)\n",
         "hidden": false,
         "locked": false
        }
       ],
       "scored": true,
       "setup": "",
       "teardown": "",
       "type": "doctest"
      }
     ]
    },
    "q2ca": {
     "name": "q2ca",
     "points": 4,
     "suites": [
      {
       "cases": [
        {
         "code": ">>> assert np.isclose(waiting_time_after_one_min_eruption, 44.204)\n>>> assert np.isclose(waiting_time_after_six_min_eruption, 97.852)\n",
         "hidden": false,
         "locked": false
        }
       ],
       "scored": true,
       "setup": "",
       "teardown": "",
       "type": "doctest"
      }
     ]
    },
    "q2d": {
     "name": "q2d",
     "points": 9,
     "suites": [
      {
       "cases": [
        {
         "code": ">>> answer = [  3.53  ,  19.6275,  73.64  , 172.52  , 249.38  , 100.    , 89.0591]\n>>> tol = [ 6.80748852, 20.10769302, 26.35571285, 33.81272172, 63.35582373, 0.        , 22.86310731]\n>>> assert np.allclose(at.sum_stats(coeff_hist[0]), answer, atol = tol)\n",
         "hidden": false,
         "locked": false,
         "points": 5
        },
        {
         "code": ">>> assert at.check_legibility(ax2d) and at.check_legend(ax2d, 2)\n",
         "hidden": false,
         "locked": false,
         "points": 1
        }
       ],
       "scored": true,
       "setup": "",
       "teardown": "",
       "type": "doctest"
      }
     ]
    },
    "q2e": {
     "name": "q2e",
     "points": 10,
     "suites": [
      {
       "cases": [
        {
         "code": ">>> answer = [  3.65  ,  18.7125,  71.63  , 173.3875, 254.38  , 100.    , 90.4926]\n>>> tol = [ 7.78122741, 17.41660038, 27.9029192 , 31.71486984, 60.39735425, 0.        , 21.12828358]\n>>> assert np.allclose(at.sum_stats(boot_hist[0]), answer, atol = tol)\n",
         "hidden": false,
         "locked": false,
         "points": 5
        },
        {
         "code": ">>> assert np.allclose(ax2e.lines[0].get_data()[0], [0.8827144576689824, 0.9172279154002091], atol = [0.0022682215198186004, 0.0020122005079416085])\n",
         "hidden": false,
         "locked": false,
         "points": 4
        },
        {
         "code": ">>> assert at.check_legibility(ax2e) and at.check_legend(ax2e, 2)\n",
         "hidden": false,
         "locked": false,
         "points": 1
        }
       ],
       "scored": true,
       "setup": "",
       "teardown": "",
       "type": "doctest"
      }
     ]
    },
    "q2f": {
     "name": "q2f",
     "points": null,
     "suites": [
      {
       "cases": [
        {
         "code": ">>> answer = [  4.13  ,  19.745 ,  73.36  , 169.155 , 258.98  , 100.    , 89.8583]\n>>> tol = [ 7.79601821, 22.61967672, 32.59046793, 40.67417823, 78.38211786, 0. , 25.30811915]\n>>> assert np.allclose(at.sum_stats(minutes_hist[0]), answer, atol = tol)\n",
         "hidden": false,
         "locked": false,
         "points": 5
        },
        {
         "code": ">>> assert np.allclose(ax2f.lines[1].get_data()[0], [0.5762404411764706, 0.7090158088235294], atol = [0.011416731811098188, 0.010394655703172676])\n",
         "hidden": false,
         "locked": false,
         "points": 3
        },
        {
         "code": ">>> assert np.isclose(ax2f.lines[0].get_data()[0][0], 0.6434926470588236, atol = 0.0035585880451989302)\n",
         "hidden": false,
         "locked": false,
         "points": 2
        }
       ],
       "scored": true,
       "setup": "",
       "teardown": "",
       "type": "doctest"
      }
     ]
    }
   }
  }
 },
 "nbformat": 4,
 "nbformat_minor": 4
}
